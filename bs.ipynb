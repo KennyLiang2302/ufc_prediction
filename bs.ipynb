{
 "cells": [
  {
   "cell_type": "markdown",
   "metadata": {},
   "source": []
  },
  {
   "cell_type": "code",
   "execution_count": 232,
   "metadata": {},
   "outputs": [],
   "source": [
    "import sklearn"
   ]
  },
  {
   "cell_type": "code",
   "execution_count": 233,
   "metadata": {},
   "outputs": [],
   "source": [
    "import matplotlib.pyplot as plt\n"
   ]
  },
  {
   "cell_type": "code",
   "execution_count": 234,
   "metadata": {},
   "outputs": [],
   "source": [
    "import pandas as pd"
   ]
  },
  {
   "cell_type": "code",
   "execution_count": 235,
   "metadata": {},
   "outputs": [],
   "source": [
    "df = pd.read_csv(\"ufc-master.csv/ufc-master.csv\")"
   ]
  },
  {
   "cell_type": "code",
   "execution_count": 236,
   "metadata": {},
   "outputs": [],
   "source": [
    "y = df[\"finish\"]"
   ]
  },
  {
   "cell_type": "code",
   "execution_count": 237,
   "metadata": {},
   "outputs": [],
   "source": [
    "not_include_list = [\"R_odds\",\"B_odds\",\"R_ev\",\"B_ev\",\"r_dec_odds\",\"b_dec_odds\",\"r_sub_odds\",\"b_sub_odds\",\"r_ko_odds\",\"b_ko_odds\",\"date\",\"location\",\"country\",\"R_fighter\",\"B_fighter\",\"finish\",\"finish_details\",\"finish_round_time\",\"total_fight_time_secs\"]"
   ]
  },
  {
   "cell_type": "code",
   "execution_count": 238,
   "metadata": {},
   "outputs": [],
   "source": [
    "processed_df = df.drop(columns=not_include_list)"
   ]
  },
  {
   "cell_type": "code",
   "execution_count": 239,
   "metadata": {},
   "outputs": [],
   "source": [
    "X = processed_df.drop(columns=[\"Winner\"])"
   ]
  },
  {
   "cell_type": "code",
   "execution_count": 240,
   "metadata": {},
   "outputs": [],
   "source": [
    "y = processed_df['Winner']"
   ]
  },
  {
   "cell_type": "code",
   "execution_count": 241,
   "metadata": {},
   "outputs": [],
   "source": [
    "# import pandas as pd\n",
    "# import numpy as np\n",
    "# from sklearn.preprocessing import OneHotEncoder\n",
    "\n",
    "# # Assuming df is your DataFrame\n",
    "\n",
    "# # Identify string columns\n",
    "# string_columns = X.select_dtypes(include='object').columns\n",
    "\n",
    "# # Create an empty DataFrame to store the encoded columns\n",
    "# one_hot_df = pd.DataFrame()\n",
    "\n",
    "# # Create an instance of the OneHotEncoder\n",
    "# enc = OneHotEncoder(handle_unknown='ignore')\n",
    "\n",
    "# # Loop through the string columns\n",
    "# for column in string_columns:\n",
    "#     # Convert the column to a numpy array\n",
    "#     array = X[column].values.reshape(-1, 1)\n",
    "\n",
    "#     # Fit and transform the array\n",
    "#     encoded = enc.fit_transform(array)\n",
    "\n",
    "#     # Convert the array to a DataFrame\n",
    "#     encoded_df = pd.DataFrame(encoded.toarray(), columns=enc.categories_[0])\n",
    "\n",
    "#     # Concatenate the encoded DataFrame to the one_hot_df\n",
    "#     one_hot_df = pd.concat([one_hot_df, encoded_df], axis=1)\n",
    "\n",
    "# # Concatenate the original DataFrame and the one_hot_df\n",
    "# new_df = pd.concat([X.drop(string_columns, axis=1), one_hot_df], axis=1)"
   ]
  },
  {
   "cell_type": "code",
   "execution_count": 242,
   "metadata": {},
   "outputs": [
    {
     "data": {
      "text/html": [
       "<div>\n",
       "<style scoped>\n",
       "    .dataframe tbody tr th:only-of-type {\n",
       "        vertical-align: middle;\n",
       "    }\n",
       "\n",
       "    .dataframe tbody tr th {\n",
       "        vertical-align: top;\n",
       "    }\n",
       "\n",
       "    .dataframe thead th {\n",
       "        text-align: right;\n",
       "    }\n",
       "</style>\n",
       "<table border=\"1\" class=\"dataframe\">\n",
       "  <thead>\n",
       "    <tr style=\"text-align: right;\">\n",
       "      <th></th>\n",
       "      <th>title_bout</th>\n",
       "      <th>no_of_rounds</th>\n",
       "      <th>B_current_lose_streak</th>\n",
       "      <th>B_current_win_streak</th>\n",
       "      <th>B_draw</th>\n",
       "      <th>B_avg_SIG_STR_landed</th>\n",
       "      <th>B_avg_SIG_STR_pct</th>\n",
       "      <th>B_avg_SUB_ATT</th>\n",
       "      <th>B_avg_TD_landed</th>\n",
       "      <th>B_avg_TD_pct</th>\n",
       "      <th>...</th>\n",
       "      <th>weight_class_Women's Strawweight</th>\n",
       "      <th>gender_MALE</th>\n",
       "      <th>B_Stance_Orthodox</th>\n",
       "      <th>B_Stance_Southpaw</th>\n",
       "      <th>B_Stance_Switch</th>\n",
       "      <th>R_Stance_Orthodox</th>\n",
       "      <th>R_Stance_Southpaw</th>\n",
       "      <th>R_Stance_Switch</th>\n",
       "      <th>better_rank_Red</th>\n",
       "      <th>better_rank_neither</th>\n",
       "    </tr>\n",
       "  </thead>\n",
       "  <tbody>\n",
       "    <tr>\n",
       "      <th>0</th>\n",
       "      <td>False</td>\n",
       "      <td>5</td>\n",
       "      <td>0</td>\n",
       "      <td>1</td>\n",
       "      <td>0</td>\n",
       "      <td>3.42</td>\n",
       "      <td>0.59</td>\n",
       "      <td>0.7</td>\n",
       "      <td>0.24</td>\n",
       "      <td>1.00</td>\n",
       "      <td>...</td>\n",
       "      <td>0</td>\n",
       "      <td>1</td>\n",
       "      <td>1</td>\n",
       "      <td>0</td>\n",
       "      <td>0</td>\n",
       "      <td>1</td>\n",
       "      <td>0</td>\n",
       "      <td>0</td>\n",
       "      <td>1</td>\n",
       "      <td>0</td>\n",
       "    </tr>\n",
       "    <tr>\n",
       "      <th>1</th>\n",
       "      <td>False</td>\n",
       "      <td>3</td>\n",
       "      <td>2</td>\n",
       "      <td>0</td>\n",
       "      <td>0</td>\n",
       "      <td>5.16</td>\n",
       "      <td>0.42</td>\n",
       "      <td>0.8</td>\n",
       "      <td>0.79</td>\n",
       "      <td>0.22</td>\n",
       "      <td>...</td>\n",
       "      <td>0</td>\n",
       "      <td>1</td>\n",
       "      <td>1</td>\n",
       "      <td>0</td>\n",
       "      <td>0</td>\n",
       "      <td>1</td>\n",
       "      <td>0</td>\n",
       "      <td>0</td>\n",
       "      <td>0</td>\n",
       "      <td>1</td>\n",
       "    </tr>\n",
       "    <tr>\n",
       "      <th>2</th>\n",
       "      <td>False</td>\n",
       "      <td>3</td>\n",
       "      <td>1</td>\n",
       "      <td>0</td>\n",
       "      <td>0</td>\n",
       "      <td>2.92</td>\n",
       "      <td>0.41</td>\n",
       "      <td>0.1</td>\n",
       "      <td>1.15</td>\n",
       "      <td>0.34</td>\n",
       "      <td>...</td>\n",
       "      <td>0</td>\n",
       "      <td>1</td>\n",
       "      <td>0</td>\n",
       "      <td>1</td>\n",
       "      <td>0</td>\n",
       "      <td>1</td>\n",
       "      <td>0</td>\n",
       "      <td>0</td>\n",
       "      <td>0</td>\n",
       "      <td>1</td>\n",
       "    </tr>\n",
       "    <tr>\n",
       "      <th>3</th>\n",
       "      <td>False</td>\n",
       "      <td>3</td>\n",
       "      <td>1</td>\n",
       "      <td>0</td>\n",
       "      <td>0</td>\n",
       "      <td>4.04</td>\n",
       "      <td>0.34</td>\n",
       "      <td>0.0</td>\n",
       "      <td>0.00</td>\n",
       "      <td>0.00</td>\n",
       "      <td>...</td>\n",
       "      <td>0</td>\n",
       "      <td>1</td>\n",
       "      <td>1</td>\n",
       "      <td>0</td>\n",
       "      <td>0</td>\n",
       "      <td>1</td>\n",
       "      <td>0</td>\n",
       "      <td>0</td>\n",
       "      <td>0</td>\n",
       "      <td>1</td>\n",
       "    </tr>\n",
       "    <tr>\n",
       "      <th>4</th>\n",
       "      <td>False</td>\n",
       "      <td>3</td>\n",
       "      <td>0</td>\n",
       "      <td>2</td>\n",
       "      <td>0</td>\n",
       "      <td>5.22</td>\n",
       "      <td>0.56</td>\n",
       "      <td>0.0</td>\n",
       "      <td>2.54</td>\n",
       "      <td>0.39</td>\n",
       "      <td>...</td>\n",
       "      <td>0</td>\n",
       "      <td>1</td>\n",
       "      <td>1</td>\n",
       "      <td>0</td>\n",
       "      <td>0</td>\n",
       "      <td>1</td>\n",
       "      <td>0</td>\n",
       "      <td>0</td>\n",
       "      <td>0</td>\n",
       "      <td>1</td>\n",
       "    </tr>\n",
       "  </tbody>\n",
       "</table>\n",
       "<p>5 rows × 115 columns</p>\n",
       "</div>"
      ],
      "text/plain": [
       "   title_bout  no_of_rounds  B_current_lose_streak  B_current_win_streak  \\\n",
       "0       False             5                      0                     1   \n",
       "1       False             3                      2                     0   \n",
       "2       False             3                      1                     0   \n",
       "3       False             3                      1                     0   \n",
       "4       False             3                      0                     2   \n",
       "\n",
       "   B_draw  B_avg_SIG_STR_landed  B_avg_SIG_STR_pct  B_avg_SUB_ATT  \\\n",
       "0       0                  3.42               0.59            0.7   \n",
       "1       0                  5.16               0.42            0.8   \n",
       "2       0                  2.92               0.41            0.1   \n",
       "3       0                  4.04               0.34            0.0   \n",
       "4       0                  5.22               0.56            0.0   \n",
       "\n",
       "   B_avg_TD_landed  B_avg_TD_pct  ...  weight_class_Women's Strawweight  \\\n",
       "0             0.24          1.00  ...                                 0   \n",
       "1             0.79          0.22  ...                                 0   \n",
       "2             1.15          0.34  ...                                 0   \n",
       "3             0.00          0.00  ...                                 0   \n",
       "4             2.54          0.39  ...                                 0   \n",
       "\n",
       "   gender_MALE  B_Stance_Orthodox  B_Stance_Southpaw  B_Stance_Switch  \\\n",
       "0            1                  1                  0                0   \n",
       "1            1                  1                  0                0   \n",
       "2            1                  0                  1                0   \n",
       "3            1                  1                  0                0   \n",
       "4            1                  1                  0                0   \n",
       "\n",
       "   R_Stance_Orthodox  R_Stance_Southpaw  R_Stance_Switch  better_rank_Red  \\\n",
       "0                  1                  0                0                1   \n",
       "1                  1                  0                0                0   \n",
       "2                  1                  0                0                0   \n",
       "3                  1                  0                0                0   \n",
       "4                  1                  0                0                0   \n",
       "\n",
       "   better_rank_neither  \n",
       "0                    0  \n",
       "1                    1  \n",
       "2                    1  \n",
       "3                    1  \n",
       "4                    1  \n",
       "\n",
       "[5 rows x 115 columns]"
      ]
     },
     "execution_count": 242,
     "metadata": {},
     "output_type": "execute_result"
    }
   ],
   "source": [
    "X = X.apply(lambda x: x.str.strip() if x.dtype == 'object' else x)\n",
    "string_cols = X.select_dtypes(['object']).columns\n",
    "\n",
    "# one-hot encode all string columns\n",
    "new_df = pd.get_dummies(X, columns=string_cols, drop_first=True)\n",
    "\n",
    "new_df.head()"
   ]
  },
  {
   "cell_type": "code",
   "execution_count": 243,
   "metadata": {},
   "outputs": [
    {
     "name": "stdout",
     "output_type": "stream",
     "text": [
      "title_bout\n",
      "no_of_rounds\n",
      "B_current_lose_streak\n",
      "B_current_win_streak\n",
      "B_draw\n",
      "B_avg_SIG_STR_landed\n",
      "B_avg_SIG_STR_pct\n",
      "B_avg_SUB_ATT\n",
      "B_avg_TD_landed\n",
      "B_avg_TD_pct\n",
      "B_longest_win_streak\n",
      "B_losses\n",
      "B_total_rounds_fought\n",
      "B_total_title_bouts\n",
      "B_win_by_Decision_Majority\n",
      "B_win_by_Decision_Split\n",
      "B_win_by_Decision_Unanimous\n",
      "B_win_by_KO/TKO\n",
      "B_win_by_Submission\n",
      "B_win_by_TKO_Doctor_Stoppage\n",
      "B_wins\n",
      "B_Height_cms\n",
      "B_Reach_cms\n",
      "B_Weight_lbs\n",
      "R_current_lose_streak\n",
      "R_current_win_streak\n",
      "R_draw\n",
      "R_avg_SIG_STR_landed\n",
      "R_avg_SIG_STR_pct\n",
      "R_avg_SUB_ATT\n",
      "R_avg_TD_landed\n",
      "R_avg_TD_pct\n",
      "R_longest_win_streak\n",
      "R_losses\n",
      "R_total_rounds_fought\n",
      "R_total_title_bouts\n",
      "R_win_by_Decision_Majority\n",
      "R_win_by_Decision_Split\n",
      "R_win_by_Decision_Unanimous\n",
      "R_win_by_KO/TKO\n",
      "R_win_by_Submission\n",
      "R_win_by_TKO_Doctor_Stoppage\n",
      "R_wins\n",
      "R_Height_cms\n",
      "R_Reach_cms\n",
      "R_Weight_lbs\n",
      "R_age\n",
      "B_age\n",
      "lose_streak_dif\n",
      "win_streak_dif\n",
      "longest_win_streak_dif\n",
      "win_dif\n",
      "loss_dif\n",
      "total_round_dif\n",
      "total_title_bout_dif\n",
      "ko_dif\n",
      "sub_dif\n",
      "height_dif\n",
      "reach_dif\n",
      "age_dif\n",
      "sig_str_dif\n",
      "avg_sub_att_dif\n",
      "avg_td_dif\n",
      "empty_arena\n",
      "constant_1\n",
      "B_match_weightclass_rank\n",
      "R_match_weightclass_rank\n",
      "R_Women's Flyweight_rank\n",
      "R_Women's Featherweight_rank\n",
      "R_Women's Strawweight_rank\n",
      "R_Women's Bantamweight_rank\n",
      "R_Heavyweight_rank\n",
      "R_Light Heavyweight_rank\n",
      "R_Middleweight_rank\n",
      "R_Welterweight_rank\n",
      "R_Lightweight_rank\n",
      "R_Featherweight_rank\n",
      "R_Bantamweight_rank\n",
      "R_Flyweight_rank\n",
      "R_Pound-for-Pound_rank\n",
      "B_Women's Flyweight_rank\n",
      "B_Women's Featherweight_rank\n",
      "B_Women's Strawweight_rank\n",
      "B_Women's Bantamweight_rank\n",
      "B_Heavyweight_rank\n",
      "B_Light Heavyweight_rank\n",
      "B_Middleweight_rank\n",
      "B_Welterweight_rank\n",
      "B_Lightweight_rank\n",
      "B_Featherweight_rank\n",
      "B_Bantamweight_rank\n",
      "B_Flyweight_rank\n",
      "B_Pound-for-Pound_rank\n",
      "finish_round\n",
      "weight_class_Catch Weight\n",
      "weight_class_Featherweight\n",
      "weight_class_Flyweight\n",
      "weight_class_Heavyweight\n",
      "weight_class_Light Heavyweight\n",
      "weight_class_Lightweight\n",
      "weight_class_Middleweight\n",
      "weight_class_Welterweight\n",
      "weight_class_Women's Bantamweight\n",
      "weight_class_Women's Featherweight\n",
      "weight_class_Women's Flyweight\n",
      "weight_class_Women's Strawweight\n",
      "gender_MALE\n",
      "B_Stance_Orthodox\n",
      "B_Stance_Southpaw\n",
      "B_Stance_Switch\n",
      "R_Stance_Orthodox\n",
      "R_Stance_Southpaw\n",
      "R_Stance_Switch\n",
      "better_rank_Red\n",
      "better_rank_neither\n"
     ]
    }
   ],
   "source": [
    "for col in new_df.columns:\n",
    "    print(col)"
   ]
  },
  {
   "cell_type": "code",
   "execution_count": 244,
   "metadata": {},
   "outputs": [],
   "source": [
    "# select all boolean columns\n",
    "bool_cols = new_df.select_dtypes(['bool']).columns\n",
    "\n",
    "# convert boolean values to 0/1\n",
    "new_df[bool_cols] = new_df[bool_cols].astype(int)"
   ]
  },
  {
   "cell_type": "code",
   "execution_count": 245,
   "metadata": {},
   "outputs": [],
   "source": [
    "X = new_df"
   ]
  },
  {
   "cell_type": "code",
   "execution_count": 246,
   "metadata": {},
   "outputs": [],
   "source": [
    "y = df[\"Winner\"]"
   ]
  },
  {
   "cell_type": "code",
   "execution_count": 247,
   "metadata": {},
   "outputs": [],
   "source": [
    "from sklearn.preprocessing import LabelEncoder\n",
    "\n",
    "# assume 'df' is your dataframe and 'column_name' is the column you want to label encode\n",
    "le = LabelEncoder()\n",
    "\n",
    "y = le.fit_transform(y)"
   ]
  },
  {
   "cell_type": "code",
   "execution_count": 248,
   "metadata": {},
   "outputs": [],
   "source": [
    "import sklearn.linear_model\n",
    "\n",
    "\n",
    "model = sklearn.linear_model.LogisticRegression()"
   ]
  },
  {
   "cell_type": "code",
   "execution_count": 249,
   "metadata": {},
   "outputs": [
    {
     "name": "stdout",
     "output_type": "stream",
     "text": [
      "['B_avg_SIG_STR_landed', 'B_avg_SIG_STR_pct', 'B_avg_SUB_ATT', 'B_avg_TD_landed', 'B_avg_TD_pct', 'R_avg_SIG_STR_landed', 'R_avg_SIG_STR_pct', 'R_avg_SUB_ATT', 'R_avg_TD_landed', 'R_avg_TD_pct', 'B_match_weightclass_rank', 'R_match_weightclass_rank', \"R_Women's Flyweight_rank\", \"R_Women's Featherweight_rank\", \"R_Women's Strawweight_rank\", \"R_Women's Bantamweight_rank\", 'R_Heavyweight_rank', 'R_Light Heavyweight_rank', 'R_Middleweight_rank', 'R_Welterweight_rank', 'R_Lightweight_rank', 'R_Featherweight_rank', 'R_Bantamweight_rank', 'R_Flyweight_rank', 'R_Pound-for-Pound_rank', \"B_Women's Flyweight_rank\", \"B_Women's Featherweight_rank\", \"B_Women's Strawweight_rank\", \"B_Women's Bantamweight_rank\", 'B_Heavyweight_rank', 'B_Light Heavyweight_rank', 'B_Middleweight_rank', 'B_Welterweight_rank', 'B_Lightweight_rank', 'B_Featherweight_rank', 'B_Bantamweight_rank', 'B_Flyweight_rank', 'B_Pound-for-Pound_rank', 'finish_round']\n"
     ]
    }
   ],
   "source": [
    "import pandas as pd\n",
    "\n",
    "# assume 'df' is your dataframe\n",
    "\n",
    "# get columns with NaN values\n",
    "nan_cols = X.columns[X.isna().any()].tolist()\n",
    "\n",
    "print(nan_cols)  # list of column names with NaN values"
   ]
  },
  {
   "cell_type": "code",
   "execution_count": 250,
   "metadata": {},
   "outputs": [],
   "source": [
    "# columns = ['R_odds', 'R_ev', 'B_avg_SIG_STR_landed', 'B_avg_SIG_STR_pct', 'B_avg_SUB_ATT', 'B_avg_TD_landed', 'B_avg_TD_pct', 'R_avg_SIG_STR_landed', 'R_avg_SIG_STR_pct', 'R_avg_SUB_ATT', 'R_avg_TD_landed', 'R_avg_TD_pct', 'B_match_weightclass_rank', 'R_match_weightclass_rank', \"R_Women's Flyweight_rank\", \"R_Women's Featherweight_rank\", \"R_Women's Strawweight_rank\", \"R_Women's Bantamweight_rank\", 'R_Heavyweight_rank', 'R_Light Heavyweight_rank', 'R_Middleweight_rank', 'R_Welterweight_rank', 'R_Lightweight_rank', 'R_Featherweight_rank', 'R_Bantamweight_rank', 'R_Flyweight_rank', 'R_Pound-for-Pound_rank', \"B_Women's Flyweight_rank\", \"B_Women's Featherweight_rank\", \"B_Women's Strawweight_rank\", \"B_Women's Bantamweight_rank\", 'B_Heavyweight_rank', 'B_Light Heavyweight_rank', 'B_Middleweight_rank', 'B_Welterweight_rank', 'B_Lightweight_rank', 'B_Featherweight_rank', 'B_Bantamweight_rank', 'B_Flyweight_rank', 'B_Pound-for-Pound_rank', 'finish_round', 'r_dec_odds', 'b_dec_odds', 'r_sub_odds', 'b_sub_odds', 'r_ko_odds', 'b_ko_odds']\n",
    "\n",
    "for col in nan_cols:\n",
    "    X[f'is_nan_{col}'] = X[col].isna().astype(int)\n",
    "    X[col] = X[col].fillna(0)"
   ]
  },
  {
   "cell_type": "code",
   "execution_count": 251,
   "metadata": {},
   "outputs": [],
   "source": [
    "import sklearn.linear_model\n",
    "model = sklearn.linear_model.LogisticRegression()"
   ]
  },
  {
   "cell_type": "code",
   "execution_count": 252,
   "metadata": {},
   "outputs": [
    {
     "name": "stderr",
     "output_type": "stream",
     "text": [
      "c:\\Users\\adipk\\myapps\\software\\envs\\alphazero\\lib\\site-packages\\sklearn\\linear_model\\_logistic.py:818: ConvergenceWarning: lbfgs failed to converge (status=1):\n",
      "STOP: TOTAL NO. of ITERATIONS REACHED LIMIT.\n",
      "\n",
      "Increase the number of iterations (max_iter) or scale the data as shown in:\n",
      "    https://scikit-learn.org/stable/modules/preprocessing.html\n",
      "Please also refer to the documentation for alternative solver options:\n",
      "    https://scikit-learn.org/stable/modules/linear_model.html#logistic-regression\n",
      "  extra_warning_msg=_LOGISTIC_SOLVER_CONVERGENCE_MSG,\n"
     ]
    },
    {
     "data": {
      "text/plain": [
       "LogisticRegression()"
      ]
     },
     "execution_count": 252,
     "metadata": {},
     "output_type": "execute_result"
    }
   ],
   "source": [
    "model.fit(X,y)"
   ]
  },
  {
   "cell_type": "code",
   "execution_count": 253,
   "metadata": {},
   "outputs": [],
   "source": [
    "from sklearn.model_selection import train_test_split"
   ]
  },
  {
   "cell_type": "code",
   "execution_count": 254,
   "metadata": {},
   "outputs": [],
   "source": [
    "X_train,X_test,y_train,y_test = train_test_split(X,y,test_size=0.2)"
   ]
  },
  {
   "cell_type": "code",
   "execution_count": 255,
   "metadata": {},
   "outputs": [],
   "source": [
    "import sklearn.linear_model\n",
    "model = sklearn.linear_model.LogisticRegression()"
   ]
  },
  {
   "cell_type": "code",
   "execution_count": 256,
   "metadata": {},
   "outputs": [
    {
     "name": "stderr",
     "output_type": "stream",
     "text": [
      "c:\\Users\\adipk\\myapps\\software\\envs\\alphazero\\lib\\site-packages\\sklearn\\linear_model\\_logistic.py:818: ConvergenceWarning: lbfgs failed to converge (status=1):\n",
      "STOP: TOTAL NO. of ITERATIONS REACHED LIMIT.\n",
      "\n",
      "Increase the number of iterations (max_iter) or scale the data as shown in:\n",
      "    https://scikit-learn.org/stable/modules/preprocessing.html\n",
      "Please also refer to the documentation for alternative solver options:\n",
      "    https://scikit-learn.org/stable/modules/linear_model.html#logistic-regression\n",
      "  extra_warning_msg=_LOGISTIC_SOLVER_CONVERGENCE_MSG,\n"
     ]
    },
    {
     "data": {
      "text/plain": [
       "LogisticRegression()"
      ]
     },
     "execution_count": 256,
     "metadata": {},
     "output_type": "execute_result"
    }
   ],
   "source": [
    "model.fit(X_train,y_train)"
   ]
  },
  {
   "cell_type": "code",
   "execution_count": 257,
   "metadata": {},
   "outputs": [
    {
     "data": {
      "text/plain": [
       "0.5928571428571429"
      ]
     },
     "execution_count": 257,
     "metadata": {},
     "output_type": "execute_result"
    }
   ],
   "source": [
    "model.score(X_test,y_test)"
   ]
  },
  {
   "cell_type": "code",
   "execution_count": 258,
   "metadata": {},
   "outputs": [
    {
     "name": "stdout",
     "output_type": "stream",
     "text": [
      "Original shape: (4896, 154)\n",
      "Transformed shape: (4896, 8)\n"
     ]
    }
   ],
   "source": [
    "from sklearn.decomposition import PCA\n",
    "\n",
    "# Create a PCA object with the desired number of components\n",
    "pca = PCA(n_components=0.95)  # retain 95% of the variance\n",
    "\n",
    "# Fit the PCA object to the data and transform it\n",
    "X_pca = pca.fit_transform(X)\n",
    "\n",
    "print(\"Original shape:\", X.shape)\n",
    "print(\"Transformed shape:\", X_pca.shape)"
   ]
  },
  {
   "cell_type": "code",
   "execution_count": 381,
   "metadata": {},
   "outputs": [
    {
     "name": "stdout",
     "output_type": "stream",
     "text": [
      "Top 10 most important features:\n",
      "B_avg_SIG_STR_landed: 0.7395\n",
      "R_avg_SIG_STR_landed: 0.6563\n",
      "B_total_rounds_fought: 0.1127\n",
      "R_Reach_cms: -0.0608\n",
      "R_Height_cms: -0.0481\n",
      "B_Reach_cms: -0.0475\n",
      "B_Height_cms: -0.0376\n",
      "B_avg_TD_landed: 0.0061\n",
      "R_age: 0.0045\n",
      "R_avg_TD_landed: 0.0041\n"
     ]
    }
   ],
   "source": [
    "from sklearn.decomposition import PCA\n",
    "\n",
    "# Create a PCA object with the desired number of components\n",
    "pca = PCA(n_components=0.95)  # retain 95% of the variance\n",
    "\n",
    "# Fit the PCA object to the data and transform it\n",
    "X_pca = pca.fit_transform(X)\n",
    "\n",
    "# Get the most important columns (features)\n",
    "importance = pca.components_[0]\n",
    "\n",
    "# Get the feature names\n",
    "feature_names = X.columns\n",
    "\n",
    "# Sort the feature names by importance\n",
    "sorted_features = sorted(zip(feature_names, importance), key=lambda x: abs(x[1]), reverse=True)\n",
    "\n",
    "# Print the top 10 most important features\n",
    "print(\"Top 10 most important features:\")\n",
    "for feature, importance in sorted_features[:10]:\n",
    "    print(f\"{feature}: {importance:.4f}\")"
   ]
  },
  {
   "cell_type": "code",
   "execution_count": 382,
   "metadata": {},
   "outputs": [
    {
     "data": {
      "image/png": "[encoded data removed]",
      "text/plain": [
       "<Figure size 432x288 with 1 Axes>"
      ]
     },
     "metadata": {
      "needs_background": "light"
     },
     "output_type": "display_data"
    }
   ],
   "source": [
    "import matplotlib.pyplot as plt\n",
    "\n",
    "# Get the top 10 most important features\n",
    "# sorted_features = sorted(zip(feature_names, importance), key=lambda x: abs(x[1]), reverse=True)\n",
    "\n",
    "# Extract the feature names and importance values\n",
    "feature_names = [x[0] for x in sorted_features[:10]]\n",
    "importance_values = [x[1] for x in sorted_features[:10]]\n",
    "\n",
    "# Create a bar graph\n",
    "plt.barh(range(len(feature_names)), importance_values)\n",
    "plt.yticks(range(len(feature_names)), feature_names)\n",
    "plt.xlabel('Importance')\n",
    "plt.ylabel('Feature')\n",
    "plt.title('Top 10 Most Important Features')\n",
    "plt.show()"
   ]
  },
  {
   "cell_type": "code",
   "execution_count": 261,
   "metadata": {},
   "outputs": [],
   "source": [
    "from sklearn import svm\n",
    "clf = svm.SVC()"
   ]
  },
  {
   "cell_type": "code",
   "execution_count": 262,
   "metadata": {},
   "outputs": [
    {
     "data": {
      "text/plain": [
       "SVC()"
      ]
     },
     "execution_count": 262,
     "metadata": {},
     "output_type": "execute_result"
    }
   ],
   "source": [
    "clf.fit(X_train, y_train)"
   ]
  },
  {
   "cell_type": "code",
   "execution_count": 263,
   "metadata": {},
   "outputs": [
    {
     "data": {
      "text/plain": [
       "0.5785714285714286"
      ]
     },
     "execution_count": 263,
     "metadata": {},
     "output_type": "execute_result"
    }
   ],
   "source": [
    "clf.score(X_test,y_test)"
   ]
  },
  {
   "cell_type": "code",
   "execution_count": 264,
   "metadata": {},
   "outputs": [],
   "source": [
    "from sklearn.ensemble import GradientBoostingClassifier,RandomForestClassifier"
   ]
  },
  {
   "cell_type": "code",
   "execution_count": 265,
   "metadata": {},
   "outputs": [],
   "source": [
    "clf = GradientBoostingClassifier(n_estimators=100,max_depth=10).fit(X_train, y_train)"
   ]
  },
  {
   "cell_type": "code",
   "execution_count": 266,
   "metadata": {},
   "outputs": [
    {
     "data": {
      "text/plain": [
       "0.5755102040816327"
      ]
     },
     "execution_count": 266,
     "metadata": {},
     "output_type": "execute_result"
    }
   ],
   "source": [
    "clf.score(X_test,y_test)"
   ]
  },
  {
   "cell_type": "code",
   "execution_count": 268,
   "metadata": {},
   "outputs": [],
   "source": [
    "clf = RandomForestClassifier(n_estimators=1000,max_depth=8,criterion=\"entropy\").fit(X_train, y_train)"
   ]
  },
  {
   "cell_type": "code",
   "execution_count": 270,
   "metadata": {},
   "outputs": [
    {
     "data": {
      "text/plain": [
       "0.5826530612244898"
      ]
     },
     "execution_count": 270,
     "metadata": {},
     "output_type": "execute_result"
    }
   ],
   "source": [
    "clf.score(X_test,y_test)"
   ]
  },
  {
   "cell_type": "code",
   "execution_count": 271,
   "metadata": {},
   "outputs": [],
   "source": [
    "X_train,X_test,y_train,y_test = train_test_split(X,y,test_size=0.2)"
   ]
  },
  {
   "cell_type": "code",
   "execution_count": 272,
   "metadata": {},
   "outputs": [],
   "source": [
    "clf = RandomForestClassifier(n_estimators=1000,max_depth=9,criterion=\"entropy\").fit(X_train, y_train)"
   ]
  },
  {
   "cell_type": "code",
   "execution_count": 273,
   "metadata": {},
   "outputs": [
    {
     "data": {
      "text/plain": [
       "0.610204081632653"
      ]
     },
     "execution_count": 273,
     "metadata": {},
     "output_type": "execute_result"
    }
   ],
   "source": [
    "clf.score(X_test,y_test)"
   ]
  },
  {
   "cell_type": "code",
   "execution_count": 274,
   "metadata": {},
   "outputs": [],
   "source": [
    "from sklearn.neural_network import MLPClassifier"
   ]
  },
  {
   "cell_type": "code",
   "execution_count": 294,
   "metadata": {},
   "outputs": [],
   "source": [
    "clf = MLPClassifier(alpha=1e-4,\n",
    "hidden_layer_sizes=(20, 20))"
   ]
  },
  {
   "cell_type": "code",
   "execution_count": 295,
   "metadata": {},
   "outputs": [
    {
     "data": {
      "text/plain": [
       "MLPClassifier(hidden_layer_sizes=(20, 20))"
      ]
     },
     "execution_count": 295,
     "metadata": {},
     "output_type": "execute_result"
    }
   ],
   "source": [
    "clf.fit(X_train, y_train)"
   ]
  },
  {
   "cell_type": "code",
   "execution_count": 296,
   "metadata": {},
   "outputs": [
    {
     "data": {
      "text/plain": [
       "0.6146578140960164"
      ]
     },
     "execution_count": 296,
     "metadata": {},
     "output_type": "execute_result"
    }
   ],
   "source": [
    "clf.score(X_train,y_train)"
   ]
  },
  {
   "cell_type": "code",
   "execution_count": 298,
   "metadata": {},
   "outputs": [
    {
     "name": "stdout",
     "output_type": "stream",
     "text": [
      "title_bout\n",
      "no_of_rounds\n",
      "B_current_lose_streak\n",
      "B_current_win_streak\n",
      "B_draw\n",
      "B_avg_SIG_STR_landed\n",
      "B_avg_SIG_STR_pct\n",
      "B_avg_SUB_ATT\n",
      "B_avg_TD_landed\n",
      "B_avg_TD_pct\n",
      "B_longest_win_streak\n",
      "B_losses\n",
      "B_total_rounds_fought\n",
      "B_total_title_bouts\n",
      "B_win_by_Decision_Majority\n",
      "B_win_by_Decision_Split\n",
      "B_win_by_Decision_Unanimous\n",
      "B_win_by_KO/TKO\n",
      "B_win_by_Submission\n",
      "B_win_by_TKO_Doctor_Stoppage\n",
      "B_wins\n",
      "B_Height_cms\n",
      "B_Reach_cms\n",
      "B_Weight_lbs\n",
      "R_current_lose_streak\n",
      "R_current_win_streak\n",
      "R_draw\n",
      "R_avg_SIG_STR_landed\n",
      "R_avg_SIG_STR_pct\n",
      "R_avg_SUB_ATT\n",
      "R_avg_TD_landed\n",
      "R_avg_TD_pct\n",
      "R_longest_win_streak\n",
      "R_losses\n",
      "R_total_rounds_fought\n",
      "R_total_title_bouts\n",
      "R_win_by_Decision_Majority\n",
      "R_win_by_Decision_Split\n",
      "R_win_by_Decision_Unanimous\n",
      "R_win_by_KO/TKO\n",
      "R_win_by_Submission\n",
      "R_win_by_TKO_Doctor_Stoppage\n",
      "R_wins\n",
      "R_Height_cms\n",
      "R_Reach_cms\n",
      "R_Weight_lbs\n",
      "R_age\n",
      "B_age\n",
      "lose_streak_dif\n",
      "win_streak_dif\n",
      "longest_win_streak_dif\n",
      "win_dif\n",
      "loss_dif\n",
      "total_round_dif\n",
      "total_title_bout_dif\n",
      "ko_dif\n",
      "sub_dif\n",
      "height_dif\n",
      "reach_dif\n",
      "age_dif\n",
      "sig_str_dif\n",
      "avg_sub_att_dif\n",
      "avg_td_dif\n",
      "empty_arena\n",
      "constant_1\n",
      "B_match_weightclass_rank\n",
      "R_match_weightclass_rank\n",
      "R_Women's Flyweight_rank\n",
      "R_Women's Featherweight_rank\n",
      "R_Women's Strawweight_rank\n",
      "R_Women's Bantamweight_rank\n",
      "R_Heavyweight_rank\n",
      "R_Light Heavyweight_rank\n",
      "R_Middleweight_rank\n",
      "R_Welterweight_rank\n",
      "R_Lightweight_rank\n",
      "R_Featherweight_rank\n",
      "R_Bantamweight_rank\n",
      "R_Flyweight_rank\n",
      "R_Pound-for-Pound_rank\n",
      "B_Women's Flyweight_rank\n",
      "B_Women's Featherweight_rank\n",
      "B_Women's Strawweight_rank\n",
      "B_Women's Bantamweight_rank\n",
      "B_Heavyweight_rank\n",
      "B_Light Heavyweight_rank\n",
      "B_Middleweight_rank\n",
      "B_Welterweight_rank\n",
      "B_Lightweight_rank\n",
      "B_Featherweight_rank\n",
      "B_Bantamweight_rank\n",
      "B_Flyweight_rank\n",
      "B_Pound-for-Pound_rank\n",
      "finish_round\n",
      "weight_class_Catch Weight\n",
      "weight_class_Featherweight\n",
      "weight_class_Flyweight\n",
      "weight_class_Heavyweight\n",
      "weight_class_Light Heavyweight\n",
      "weight_class_Lightweight\n",
      "weight_class_Middleweight\n",
      "weight_class_Welterweight\n",
      "weight_class_Women's Bantamweight\n",
      "weight_class_Women's Featherweight\n",
      "weight_class_Women's Flyweight\n",
      "weight_class_Women's Strawweight\n",
      "gender_MALE\n",
      "B_Stance_Orthodox\n",
      "B_Stance_Southpaw\n",
      "B_Stance_Switch\n",
      "R_Stance_Orthodox\n",
      "R_Stance_Southpaw\n",
      "R_Stance_Switch\n",
      "better_rank_Red\n",
      "better_rank_neither\n",
      "is_nan_B_avg_SIG_STR_landed\n",
      "is_nan_B_avg_SIG_STR_pct\n",
      "is_nan_B_avg_SUB_ATT\n",
      "is_nan_B_avg_TD_landed\n",
      "is_nan_B_avg_TD_pct\n",
      "is_nan_R_avg_SIG_STR_landed\n",
      "is_nan_R_avg_SIG_STR_pct\n",
      "is_nan_R_avg_SUB_ATT\n",
      "is_nan_R_avg_TD_landed\n",
      "is_nan_R_avg_TD_pct\n",
      "is_nan_B_match_weightclass_rank\n",
      "is_nan_R_match_weightclass_rank\n",
      "is_nan_R_Women's Flyweight_rank\n",
      "is_nan_R_Women's Featherweight_rank\n",
      "is_nan_R_Women's Strawweight_rank\n",
      "is_nan_R_Women's Bantamweight_rank\n",
      "is_nan_R_Heavyweight_rank\n",
      "is_nan_R_Light Heavyweight_rank\n",
      "is_nan_R_Middleweight_rank\n",
      "is_nan_R_Welterweight_rank\n",
      "is_nan_R_Lightweight_rank\n",
      "is_nan_R_Featherweight_rank\n",
      "is_nan_R_Bantamweight_rank\n",
      "is_nan_R_Flyweight_rank\n",
      "is_nan_R_Pound-for-Pound_rank\n",
      "is_nan_B_Women's Flyweight_rank\n",
      "is_nan_B_Women's Featherweight_rank\n",
      "is_nan_B_Women's Strawweight_rank\n",
      "is_nan_B_Women's Bantamweight_rank\n",
      "is_nan_B_Heavyweight_rank\n",
      "is_nan_B_Light Heavyweight_rank\n",
      "is_nan_B_Middleweight_rank\n",
      "is_nan_B_Welterweight_rank\n",
      "is_nan_B_Lightweight_rank\n",
      "is_nan_B_Featherweight_rank\n",
      "is_nan_B_Bantamweight_rank\n",
      "is_nan_B_Flyweight_rank\n",
      "is_nan_B_Pound-for-Pound_rank\n",
      "is_nan_finish_round\n"
     ]
    }
   ],
   "source": [
    "for col in X.columns:\n",
    "    print(col)"
   ]
  },
  {
   "cell_type": "code",
   "execution_count": 384,
   "metadata": {},
   "outputs": [],
   "source": [
    "include_list = [\"B_avg_SIG_STR_landed\",\n",
    "\"B_avg_SIG_STR_pct\",\n",
    "\"B_avg_SUB_ATT\",\n",
    "\"B_avg_TD_landed\",\n",
    "\"B_avg_TD_pct\",\n",
    "\"B_total_rounds_fought\",\n",
    "\"B_Height_cms\",\n",
    "\"B_Reach_cms\",\n",
    "\"R_avg_SIG_STR_landed\",\n",
    "\"R_avg_SIG_STR_pct\",\n",
    "\"R_avg_SUB_ATT\",\n",
    "\"R_avg_TD_landed\",\n",
    "\"R_avg_TD_pct\",\n",
    "\"R_Height_cms\",\n",
    "\"R_Reach_cms\",\n",
    "\"R_age\",\n",
    "\"B_age\",\n",
    "\"lose_streak_dif\",\n",
    "\"win_streak_dif\",\n",
    "\"longest_win_streak_dif\",\n",
    "\"win_dif\",\n",
    "\"loss_dif\",\n",
    "\"total_round_dif\",\n",
    "\"total_title_bout_dif\",\n",
    "\"ko_dif\",\n",
    "\"sub_dif\",\n",
    "\"height_dif\",\n",
    "\"reach_dif\",\n",
    "\"age_dif\",\n",
    "\"sig_str_dif\",\n",
    "\"avg_sub_att_dif\",\n",
    "\"avg_td_dif\"]"
   ]
  },
  {
   "cell_type": "code",
   "execution_count": 385,
   "metadata": {},
   "outputs": [
    {
     "data": {
      "text/plain": [
       "32"
      ]
     },
     "execution_count": 385,
     "metadata": {},
     "output_type": "execute_result"
    }
   ],
   "source": [
    "len(include_list)"
   ]
  },
  {
   "cell_type": "code",
   "execution_count": 300,
   "metadata": {},
   "outputs": [],
   "source": [
    "X   = X[include_list]"
   ]
  },
  {
   "cell_type": "code",
   "execution_count": 301,
   "metadata": {},
   "outputs": [],
   "source": [
    "X_train,X_test,y_train,y_test = train_test_split(X,y,test_size=0.2)"
   ]
  },
  {
   "cell_type": "code",
   "execution_count": 336,
   "metadata": {},
   "outputs": [],
   "source": [
    "clf = RandomForestClassifier(n_estimators=1000,max_depth=9).fit(X_train, y_train)"
   ]
  },
  {
   "cell_type": "code",
   "execution_count": 337,
   "metadata": {},
   "outputs": [
    {
     "data": {
      "text/plain": [
       "RandomForestClassifier(max_depth=9, n_estimators=1000)"
      ]
     },
     "execution_count": 337,
     "metadata": {},
     "output_type": "execute_result"
    }
   ],
   "source": [
    "clf.fit(X_train,y_train)"
   ]
  },
  {
   "cell_type": "code",
   "execution_count": 338,
   "metadata": {},
   "outputs": [
    {
     "data": {
      "text/plain": [
       "0.8370786516853933"
      ]
     },
     "execution_count": 338,
     "metadata": {},
     "output_type": "execute_result"
    }
   ],
   "source": [
    "clf.score(X_train,y_train)"
   ]
  },
  {
   "cell_type": "code",
   "execution_count": 339,
   "metadata": {},
   "outputs": [
    {
     "data": {
      "text/plain": [
       "0.613265306122449"
      ]
     },
     "execution_count": 339,
     "metadata": {},
     "output_type": "execute_result"
    }
   ],
   "source": [
    "clf.score(X_test,y_test)"
   ]
  },
  {
   "cell_type": "code",
   "execution_count": 374,
   "metadata": {},
   "outputs": [],
   "source": [
    "clf = GradientBoostingClassifier(n_estimators=100,max_depth=2).fit(X_train, y_train)"
   ]
  },
  {
   "cell_type": "code",
   "execution_count": 375,
   "metadata": {},
   "outputs": [
    {
     "data": {
      "text/plain": [
       "0.6491317671092952"
      ]
     },
     "execution_count": 375,
     "metadata": {},
     "output_type": "execute_result"
    }
   ],
   "source": [
    "clf.score(X_train,y_train)"
   ]
  },
  {
   "cell_type": "code",
   "execution_count": 376,
   "metadata": {},
   "outputs": [
    {
     "data": {
      "text/plain": [
       "0.6071428571428571"
      ]
     },
     "execution_count": 376,
     "metadata": {},
     "output_type": "execute_result"
    }
   ],
   "source": [
    "clf.score(X_test,y_test)"
   ]
  },
  {
   "cell_type": "code",
   "execution_count": 377,
   "metadata": {},
   "outputs": [],
   "source": [
    "import sklearn.linear_model\n",
    "model = sklearn.linear_model.LogisticRegression()"
   ]
  },
  {
   "cell_type": "code",
   "execution_count": null,
   "metadata": {},
   "outputs": [],
   "source": [
    "clf = model.fit(X_train, y_train)"
   ]
  },
  {
   "cell_type": "code",
   "execution_count": 379,
   "metadata": {},
   "outputs": [
    {
     "data": {
      "text/plain": [
       "0.6118488253319714"
      ]
     },
     "execution_count": 379,
     "metadata": {},
     "output_type": "execute_result"
    }
   ],
   "source": [
    "clf.score(X_train,y_train)"
   ]
  },
  {
   "cell_type": "code",
   "execution_count": 380,
   "metadata": {},
   "outputs": [
    {
     "data": {
      "text/plain": [
       "0.5989795918367347"
      ]
     },
     "execution_count": 380,
     "metadata": {},
     "output_type": "execute_result"
    }
   ],
   "source": [
    "clf.score(X_test,y_test)"
   ]
  },
  {
   "cell_type": "code",
   "execution_count": null,
   "metadata": {},
   "outputs": [],
   "source": []
  }
 ],
 "metadata": {
  "kernelspec": {
   "display_name": "alphazero",
   "language": "python",
   "name": "python3"
  },
  "language_info": {
   "codemirror_mode": {
    "name": "ipython",
    "version": 3
   },
   "file_extension": ".py",
   "mimetype": "text/x-python",
   "name": "python",
   "nbconvert_exporter": "python",
   "pygments_lexer": "ipython3",
   "version": "3.7.11"
  }
 },
 "nbformat": 4,
 "nbformat_minor": 2
}
